{
 "cells": [
  {
   "cell_type": "markdown",
   "id": "5a7a87f7",
   "metadata": {},
   "source": [
    "# Diffusion 在1D/2D的例子"
   ]
  },
  {
   "cell_type": "markdown",
   "id": "87325d70",
   "metadata": {},
   "source": [
    "## 加载数据集"
   ]
  },
  {
   "cell_type": "code",
   "execution_count": 1,
   "id": "e00ff1a1",
   "metadata": {},
   "outputs": [
    {
     "name": "stderr",
     "output_type": "stream",
     "text": [
      "/home/junbo/anaconda3/envs/robodiff/lib/python3.9/site-packages/tqdm/auto.py:22: TqdmWarning: IProgress not found. Please update jupyter and ipywidgets. See https://ipywidgets.readthedocs.io/en/stable/user_install.html\n",
      "  from .autonotebook import tqdm as notebook_tqdm\n"
     ]
    }
   ],
   "source": [
    "import torch\n",
    "import os\n",
    "import sys\n",
    "import numpy as np\n",
    "import matplotlib.pyplot as plt\n",
    "\n",
    "notebook_dir = os.path.dirname(os.path.abspath(\"__file__\"))\n",
    "ibc_parent_dir = os.path.abspath(os.path.join(notebook_dir, \"..\"))\n",
    "sys.path.append(ibc_parent_dir)\n",
    "\n",
    "from tqdm.auto import tqdm\n",
    "import dataset_2d"
   ]
  },
  {
   "cell_type": "code",
   "execution_count": 2,
   "id": "2487ff66",
   "metadata": {},
   "outputs": [],
   "source": [
    "experiment_name = \"dp_step_30\" # custom experiment name\n",
    "custom_seed = 42 # custom seed\n",
    "\n",
    "train_dataset_size = 30 # custom dataset size\n",
    "train_batch_size = 8\n",
    "trian_num_workers = 1\n",
    "\n",
    "test_dataset_size = 500\n",
    "test_batch_size = 8\n",
    "test_num_workers = 1"
   ]
  },
  {
   "cell_type": "code",
   "execution_count": 3,
   "id": "e1238fc4",
   "metadata": {},
   "outputs": [
    {
     "name": "stdout",
     "output_type": "stream",
     "text": [
      "Resampled 30 data points.\n"
     ]
    }
   ],
   "source": [
    "train_dataset_config = dataset_2d.ToyDatasetConfig(\n",
    "    dataset_size=train_dataset_size,\n",
    "    seed=custom_seed,\n",
    "    mode = 'step',    \n",
    ")\n",
    "train_dataset = dataset_2d.Toy1DDataset(train_dataset_config)  # data: coordinate regression shape:（N,2)\n",
    "train_dataloader = torch.utils.data.DataLoader(\n",
    "    train_dataset,\n",
    "    batch_size=train_batch_size,\n",
    "    shuffle=True,\n",
    "    num_workers=trian_num_workers,\n",
    "    pin_memory=torch.cuda.is_available(),\n",
    ")\n",
    "\n",
    "# Test split.\n",
    "test_dataset_config = dataset_2d.ToyDatasetConfig(\n",
    "    dataset_size=test_dataset_size,\n",
    "    seed=custom_seed, \n",
    "    mode = 'step',\n",
    ")\n",
    "test_dataset = dataset_2d.Toy1DDataset(test_dataset_config)\n",
    "test_dataset.exclude(train_dataset.coordinates) # 防止测试集中包含训练集的数据\n",
    "test_dataloader = torch.utils.data.DataLoader(\n",
    "    test_dataset,\n",
    "    batch_size=test_batch_size,\n",
    "    shuffle=False,\n",
    "    num_workers=test_num_workers,\n",
    "    pin_memory=torch.cuda.is_available(),\n",
    ")"
   ]
  },
  {
   "cell_type": "code",
   "execution_count": 4,
   "id": "978aef1c",
   "metadata": {},
   "outputs": [
    {
     "name": "stderr",
     "output_type": "stream",
     "text": [
      "No artists with labels found to put in legend.  Note that artists whose label start with an underscore are ignored when legend() is called with no argument.\n"
     ]
    },
    {
     "name": "stdout",
     "output_type": "stream",
     "text": [
      "batch的类型: <class 'list'>\n",
      "batch包含的元素数量: 2\n",
      "batch[0].shape:torch.Size([8, 1])\n",
      "batch[1].shape:torch.Size([8, 1])\n",
      "x = torch.Size([1])\n",
      "y = torch.Size([1])\n"
     ]
    },
    {
     "data": {
      "image/png": "[encoded data removed]",
      "text/plain": [
       "<Figure size 640x480 with 1 Axes>"
      ]
     },
     "metadata": {},
     "output_type": "display_data"
    }
   ],
   "source": [
    "batch = next(iter(train_dataloader))    # 可以更改为test_dataloader查看测试集的shape\n",
    "\n",
    "print(\"batch的类型:\", type(batch))  # data + label\n",
    "print(\"batch包含的元素数量:\", len(batch))\n",
    "\n",
    "for i in range(len(batch)):\n",
    "    print(\"batch[{}].shape:{}\".format(i, batch[i].shape))\n",
    "\n",
    "# Visualize one instance.\n",
    "x, y = train_dataset[np.random.randint(len(train_dataset))]\n",
    "print(\"x =\", x.shape)\n",
    "print(\"y =\", y.shape)\n",
    "\n",
    "xs = train_dataset.coordinates.flatten()\n",
    "ys = train_dataset.targets  # shape (N, 3) for circle_with_line\n",
    "\n",
    "plt.figure()\n",
    "\n",
    "if ys.ndim == 1 or ys.shape[1] == 1:\n",
    "    # 普通 1D 情况\n",
    "    plt.scatter(xs, ys.flatten(), marker=\"x\", c=\"blue\", alpha=0.6)\n",
    "\n",
    "else:\n",
    "    # 分别绘制 line / upper_arc / lower_arc\n",
    "    plt.scatter(xs, ys[:, 0], marker=\"x\", c=\"black\", alpha=0.6, label=\"line\")\n",
    "    plt.scatter(xs, ys[:, 1], marker=\"o\", c=\"blue\", alpha=0.6, label=\"upper arc\")\n",
    "    plt.scatter(xs, ys[:, 2], marker=\"o\", c=\"green\", alpha=0.6, label=\"lower arc\")\n",
    "\n",
    "plt.title(f\"Toy1DDataset - {train_dataset.mode}\")\n",
    "plt.xlabel(\"x\")\n",
    "plt.ylabel(\"y\")\n",
    "plt.legend()\n",
    "plt.show()\n"
   ]
  },
  {
   "cell_type": "code",
   "execution_count": 5,
   "id": "cb36cd3c",
   "metadata": {},
   "outputs": [
    {
     "name": "stderr",
     "output_type": "stream",
     "text": [
      "No artists with labels found to put in legend.  Note that artists whose label start with an underscore are ignored when legend() is called with no argument.\n"
     ]
    },
    {
     "name": "stdout",
     "output_type": "stream",
     "text": [
      "batch的类型: <class 'list'>\n",
      "batch包含的元素数量: 2\n",
      "batch[0].shape:torch.Size([8, 1])\n",
      "batch[1].shape:torch.Size([8, 1])\n",
      "x = torch.Size([1])\n",
      "y = torch.Size([1])\n",
      "x = tensor([0.8661])\n",
      "y = tensor([1.])\n"
     ]
    },
    {
     "data": {
      "image/png": "[encoded data removed]",
      "text/plain": [
       "<Figure size 640x480 with 1 Axes>"
      ]
     },
     "metadata": {},
     "output_type": "display_data"
    }
   ],
   "source": [
    "batch = next(iter(test_dataloader)) \n",
    "\n",
    "print(\"batch的类型:\", type(batch))  # data + label\n",
    "print(\"batch包含的元素数量:\", len(batch))\n",
    "\n",
    "for i in range(len(batch)):\n",
    "    print(\"batch[{}].shape:{}\".format(i, batch[i].shape))\n",
    "\n",
    "x, y = test_dataset[np.random.randint(len(train_dataset))]\n",
    "print(\"x =\", x.shape)\n",
    "print(\"y =\", y.shape)\n",
    "print(\"x =\", x)\n",
    "print(\"y =\", y)\n",
    "\n",
    "xs = test_dataset.coordinates.flatten()\n",
    "ys = test_dataset.targets  # shape (N, 3) for circle_with_line\n",
    "\n",
    "plt.figure()\n",
    "\n",
    "if ys.ndim == 1 or ys.shape[1] == 1:\n",
    "    # 普通 1D 情况\n",
    "    plt.scatter(xs, ys.flatten(), marker=\"x\", c=\"blue\", alpha=0.6)\n",
    "\n",
    "else:\n",
    "    # 分别绘制 line / upper_arc / lower_arc\n",
    "    plt.scatter(xs, ys[:, 0], marker=\"x\", c=\"black\", alpha=0.6, label=\"line\")\n",
    "    plt.scatter(xs, ys[:, 1], marker=\"o\", c=\"blue\", alpha=0.6, label=\"upper arc\")\n",
    "    plt.scatter(xs, ys[:, 2], marker=\"o\", c=\"green\", alpha=0.6, label=\"lower arc\")\n",
    "\n",
    "plt.title(f\"Toy1DDataset - {train_dataset.mode}\")\n",
    "plt.xlabel(\"x\")\n",
    "plt.ylabel(\"y\")\n",
    "plt.legend()\n",
    "plt.show()\n"
   ]
  },
  {
   "cell_type": "markdown",
   "id": "cbf933b4",
   "metadata": {},
   "source": [
    "## 搭建网络"
   ]
  },
  {
   "cell_type": "markdown",
   "id": "d669c12c",
   "metadata": {},
   "source": [
    "需要前向扩散，逆向扩散过程\n",
    "\n",
    "噪声调度"
   ]
  }
 ],
 "metadata": {
  "kernelspec": {
   "display_name": "robodiff",
   "language": "python",
   "name": "python3"
  },
  "language_info": {
   "codemirror_mode": {
    "name": "ipython",
    "version": 3
   },
   "file_extension": ".py",
   "mimetype": "text/x-python",
   "name": "python",
   "nbconvert_exporter": "python",
   "pygments_lexer": "ipython3",
   "version": "3.9.18"
  }
 },
 "nbformat": 4,
 "nbformat_minor": 5
}
